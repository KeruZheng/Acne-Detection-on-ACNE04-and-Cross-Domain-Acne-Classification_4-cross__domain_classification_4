{
 "cells": [
  {
   "cell_type": "markdown",
   "metadata": {},
   "source": [
    "# 分割"
   ]
  },
  {
   "cell_type": "code",
   "execution_count": 3,
   "metadata": {},
   "outputs": [
    {
     "name": "stderr",
     "output_type": "stream",
     "text": [
      "Processing Images: 100%|██████████| 2973/2973 [01:35<00:00, 31.07it/s]"
     ]
    },
    {
     "name": "stdout",
     "output_type": "stream",
     "text": [
      "✅ 全部搞定！positive 和 negative 已保存到 /data_lg/keru/project/part2/yolo_cutting/ ，详情见 log.txt\n"
     ]
    },
    {
     "name": "stderr",
     "output_type": "stream",
     "text": [
      "\n"
     ]
    }
   ],
   "source": [
    "import os\n",
    "from PIL import Image\n",
    "import random\n",
    "from tqdm import tqdm   # 重点：加进度条\n",
    "\n",
    "# ========== 请修改以下路径 ==========\n",
    "images_dir = \"/data_lg/keru/project/yolov5/dataset/train/images\"   # 图片文件夹\n",
    "labels_dir = \"/data_lg/keru/project/yolov5/dataset/train/labels\"   # 标签文件夹\n",
    "save_root = \"/data_lg/keru/project/part2/yolo_cutting\"     # 输出：positive & negative 文件夹\n",
    "log_path = os.path.join(save_root, \"log.txt\")  # log.txt 路径\n",
    "\n",
    "# ========== 负样本与正样本比例 ==========\n",
    "negative_ratio = 2            # 每个正样本配几个负样本\n",
    "patch_size = 224              # patch 尺寸\n",
    "\n",
    "# === 自动创建输出文件夹 ===\n",
    "os.makedirs(os.path.join(save_root, \"positive\"), exist_ok=True)\n",
    "os.makedirs(os.path.join(save_root, \"negative\"), exist_ok=True)\n",
    "\n",
    "# === 新建或清空 log.txt ===\n",
    "with open(log_path, \"w\") as log:\n",
    "    log.write(\"Image_Name | Positive_Count | Negative_Count | Positive_Boxes | Negative_Boxes\\n\")\n",
    "\n",
    "def yolo_to_box(txt_line, img_w, img_h):\n",
    "    cls, xc, yc, w, h = map(float, txt_line.strip().split())\n",
    "    xmin = int((xc - w / 2) * img_w)\n",
    "    ymin = int((yc - h / 2) * img_h)\n",
    "    xmax = int((xc + w / 2) * img_w)\n",
    "    ymax = int((yc + h / 2) * img_h)\n",
    "    return [xmin, ymin, xmax, ymax]\n",
    "\n",
    "def boxes_overlap(box1, box2):\n",
    "    x1, y1, x2, y2 = box1\n",
    "    a1, b1, a2, b2 = box2\n",
    "    return not (x2 < a1 or x1 > a2 or y2 < b1 or y1 > b2)\n",
    "\n",
    "images = [f for f in os.listdir(images_dir) if f.endswith(\".jpg\") or f.endswith(\".png\")]\n",
    "\n",
    "# === 加 tqdm 进度条 ===\n",
    "for idx, img_name in enumerate(tqdm(images, desc=\"Processing Images\")):\n",
    "    img_path = os.path.join(images_dir, img_name)\n",
    "    label_path = os.path.join(labels_dir, img_name.replace(\".jpg\", \".txt\").replace(\".png\", \".txt\"))\n",
    "\n",
    "    image = Image.open(img_path).convert(\"RGB\")\n",
    "    W, H = image.size\n",
    "\n",
    "    pos_boxes = []\n",
    "    neg_boxes = []\n",
    "\n",
    "    # === 1) Positive Patch ===\n",
    "    if os.path.exists(label_path):\n",
    "        with open(label_path, \"r\") as f:\n",
    "            lines = f.readlines()\n",
    "        for i, line in enumerate(lines):\n",
    "            box = yolo_to_box(line, W, H)\n",
    "            crop = image.crop(box).resize((patch_size, patch_size))\n",
    "            crop.save(os.path.join(save_root, \"positive\", f\"{img_name[:-4]}_pos{i}.jpg\"))\n",
    "            pos_boxes.append(box)\n",
    "\n",
    "    pos_count = len(pos_boxes)\n",
    "    neg_target = pos_count * negative_ratio\n",
    "\n",
    "    if pos_count == 0:\n",
    "        continue  # 没标注就跳过\n",
    "\n",
    "    # === 2) Negative Patch ===\n",
    "    neg_count = 0\n",
    "    trials = 0\n",
    "\n",
    "    # 中心区域限制\n",
    "    x_min = int(W * 0.2)\n",
    "    x_max = int(W * 0.8) - patch_size\n",
    "    y_min = int(H * 0.2)\n",
    "    y_max = int(H * 0.8) - patch_size\n",
    "\n",
    "    while neg_count < neg_target and trials < 50:\n",
    "        x = random.randint(x_min, x_max)\n",
    "        y = random.randint(y_min, y_max)\n",
    "        box = [x, y, x + patch_size, y + patch_size]\n",
    "        if all(not boxes_overlap(box, pbox) for pbox in pos_boxes):\n",
    "            crop = image.crop(box)\n",
    "            crop.save(os.path.join(save_root, \"negative\", f\"{img_name[:-4]}_neg{neg_count}.jpg\"))\n",
    "            neg_boxes.append(box)\n",
    "            neg_count += 1\n",
    "        trials += 1\n",
    "\n",
    "    # === 3) 写 log.txt ===\n",
    "    with open(log_path, \"a\") as log:\n",
    "        log.write(f\"{img_name} | {pos_count} | {neg_count} | {pos_boxes} | {neg_boxes}\\n\")\n",
    "\n",
    "print(f\"✅ 全部搞定！positive 和 negative 已保存到 {save_root}/ ，详情见 log.txt\")\n",
    "\n"
   ]
  },
  {
   "cell_type": "markdown",
   "metadata": {},
   "source": [
    "# 计算\n"
   ]
  },
  {
   "cell_type": "code",
   "execution_count": 1,
   "metadata": {},
   "outputs": [
    {
     "name": "stdout",
     "output_type": "stream",
     "text": [
      "文件夹 '/data_lg/keru/project/part2/yolo_cutting/negative' 中共有 16623 个文件\n"
     ]
    }
   ],
   "source": [
    "\n",
    "import os\n",
    "\n",
    "def count_files_in_directory(directory_path):\n",
    "    \"\"\"计算指定目录中的文件数量（包括子目录）\"\"\"\n",
    "    if not os.path.exists(directory_path):\n",
    "        raise FileNotFoundError(f\"目录不存在: {directory_path}\")\n",
    "    if not os.path.isdir(directory_path):\n",
    "        raise NotADirectoryError(f\"不是有效的目录: {directory_path}\")\n",
    "    \n",
    "    file_count = 0\n",
    "    for root, dirs, files in os.walk(directory_path):\n",
    "        file_count += len(files)\n",
    "    \n",
    "    return file_count\n",
    "\n",
    "# 使用示例\n",
    "folder_path = \"/data_lg/keru/project/part2/yolo_cutting/negative\"  # 默认当前目录，可替换为你的路径\n",
    "try:\n",
    "    count = count_files_in_directory(folder_path)\n",
    "    print(f\"文件夹 '{folder_path}' 中共有 {count} 个文件\")\n",
    "except Exception as e:\n",
    "    print(f\"错误: {e}\")"
   ]
  }
 ],
 "metadata": {
  "kernelspec": {
   "display_name": "CFLD",
   "language": "python",
   "name": "python3"
  },
  "language_info": {
   "codemirror_mode": {
    "name": "ipython",
    "version": 3
   },
   "file_extension": ".py",
   "mimetype": "text/x-python",
   "name": "python",
   "nbconvert_exporter": "python",
   "pygments_lexer": "ipython3",
   "version": "3.10.11"
  }
 },
 "nbformat": 4,
 "nbformat_minor": 2
}
